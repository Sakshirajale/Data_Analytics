{
 "cells": [
  {
   "cell_type": "code",
   "execution_count": 4,
   "id": "423bfcbc-b739-4ec3-b2ed-50b5abe60adc",
   "metadata": {},
   "outputs": [],
   "source": [
    "import pandas as pd"
   ]
  },
  {
   "cell_type": "code",
   "execution_count": 7,
   "id": "692cafb9-e325-4344-a67f-eada7ce53100",
   "metadata": {},
   "outputs": [],
   "source": [
    "import pandas as pd\n",
    "d1=[100,200,300,400,500]\n",
    "d2=[501,502,503,504,505]\n",
    "d3=['Pune','mumbai','nashik','delhi','banglore']\n",
    "d4={'A':11,'B':12,'C':13,'D':14,'E':15}"
   ]
  },
  {
   "cell_type": "code",
   "execution_count": 9,
   "id": "c2902b8b-43a8-4309-8218-f918065f546e",
   "metadata": {},
   "outputs": [
    {
     "data": {
      "text/plain": [
       "0    100\n",
       "1    200\n",
       "2    300\n",
       "3    400\n",
       "4    500\n",
       "dtype: int64"
      ]
     },
     "execution_count": 9,
     "metadata": {},
     "output_type": "execute_result"
    }
   ],
   "source": [
    "pd.Series(d1)"
   ]
  },
  {
   "cell_type": "code",
   "execution_count": 10,
   "id": "a5032284-e3c9-48e2-83c6-c2b6f0b70808",
   "metadata": {},
   "outputs": [
    {
     "data": {
      "text/plain": [
       "pandas.core.series.Series"
      ]
     },
     "execution_count": 10,
     "metadata": {},
     "output_type": "execute_result"
    }
   ],
   "source": [
    "type(pd.Series(d1))"
   ]
  },
  {
   "cell_type": "code",
   "execution_count": 12,
   "id": "b3bd0675-2a10-42eb-a6b5-28cd9dfb636b",
   "metadata": {},
   "outputs": [
    {
     "data": {
      "text/plain": [
       "100        Pune\n",
       "200      mumbai\n",
       "300      nashik\n",
       "400       delhi\n",
       "500    banglore\n",
       "dtype: object"
      ]
     },
     "execution_count": 12,
     "metadata": {},
     "output_type": "execute_result"
    }
   ],
   "source": [
    "pd.Series(data=d3,index=d1)"
   ]
  },
  {
   "cell_type": "code",
   "execution_count": 13,
   "id": "5cb36698-5336-4326-9e19-a3bc684d41c2",
   "metadata": {},
   "outputs": [
    {
     "data": {
      "text/plain": [
       "100        Pune\n",
       "200      mumbai\n",
       "300      nashik\n",
       "400       delhi\n",
       "500    banglore\n",
       "dtype: object"
      ]
     },
     "execution_count": 13,
     "metadata": {},
     "output_type": "execute_result"
    }
   ],
   "source": [
    "pd.Series(d3,d1)"
   ]
  },
  {
   "cell_type": "code",
   "execution_count": 14,
   "id": "30ab0aef-2fb2-469d-b68f-2e3ff973058d",
   "metadata": {},
   "outputs": [
    {
     "data": {
      "text/plain": [
       "{'A': 11, 'B': 12, 'C': 13, 'D': 14, 'E': 15}"
      ]
     },
     "execution_count": 14,
     "metadata": {},
     "output_type": "execute_result"
    }
   ],
   "source": [
    "d4"
   ]
  },
  {
   "cell_type": "code",
   "execution_count": 15,
   "id": "7a594144-6ee2-4625-a4d1-8dd0508536d3",
   "metadata": {},
   "outputs": [
    {
     "data": {
      "text/plain": [
       "A    11\n",
       "B    12\n",
       "C    13\n",
       "D    14\n",
       "E    15\n",
       "dtype: int64"
      ]
     },
     "execution_count": 15,
     "metadata": {},
     "output_type": "execute_result"
    }
   ],
   "source": [
    "pd.Series(d4)"
   ]
  },
  {
   "cell_type": "code",
   "execution_count": 17,
   "id": "6eeebe8a-a4f3-4def-a202-4bfaa1a066e8",
   "metadata": {},
   "outputs": [
    {
     "data": {
      "text/plain": [
       "A        Pune\n",
       "B      mumbai\n",
       "C      nashik\n",
       "D       delhi\n",
       "E    banglore\n",
       "dtype: object"
      ]
     },
     "execution_count": 17,
     "metadata": {},
     "output_type": "execute_result"
    }
   ],
   "source": [
    "pd.Series(d3,d4)"
   ]
  },
  {
   "cell_type": "code",
   "execution_count": 18,
   "id": "f6077977-5738-4438-84ec-13f25c03aed8",
   "metadata": {},
   "outputs": [
    {
     "data": {
      "text/plain": [
       "Pune       NaN\n",
       "mumbai     NaN\n",
       "nashik     NaN\n",
       "delhi      NaN\n",
       "banglore   NaN\n",
       "dtype: float64"
      ]
     },
     "execution_count": 18,
     "metadata": {},
     "output_type": "execute_result"
    }
   ],
   "source": [
    "pd.Series(d4,d3)"
   ]
  },
  {
   "cell_type": "code",
   "execution_count": 19,
   "id": "870faec0-93e4-4174-8593-982f714c69e4",
   "metadata": {},
   "outputs": [],
   "source": [
    "s1=pd.Series([10,20,30,40,50],['Pune','mumbai','nashik','delhi','banglore'])"
   ]
  },
  {
   "cell_type": "code",
   "execution_count": 20,
   "id": "787141ac-d7e2-4483-8e93-4e3bf92af1ec",
   "metadata": {},
   "outputs": [],
   "source": [
    "s2=pd.Series([10,20,30,40,50],['Pune','mumbai','nashik','hydrabad','banglore'])"
   ]
  },
  {
   "cell_type": "code",
   "execution_count": 21,
   "id": "d57e5bf0-a2fd-4e08-8681-7fad40416cef",
   "metadata": {},
   "outputs": [
    {
     "data": {
      "text/plain": [
       "Pune        10\n",
       "mumbai      20\n",
       "nashik      30\n",
       "delhi       40\n",
       "banglore    50\n",
       "dtype: int64"
      ]
     },
     "execution_count": 21,
     "metadata": {},
     "output_type": "execute_result"
    }
   ],
   "source": [
    "s1"
   ]
  },
  {
   "cell_type": "code",
   "execution_count": 22,
   "id": "87100163-62b5-4f5a-9183-d2a4b1b7d576",
   "metadata": {},
   "outputs": [
    {
     "data": {
      "text/plain": [
       "Pune        10\n",
       "mumbai      20\n",
       "nashik      30\n",
       "hydrabad    40\n",
       "banglore    50\n",
       "dtype: int64"
      ]
     },
     "execution_count": 22,
     "metadata": {},
     "output_type": "execute_result"
    }
   ],
   "source": [
    "s2"
   ]
  },
  {
   "cell_type": "code",
   "execution_count": 23,
   "id": "6fc5ac51-fa08-4794-86e3-0d57fc76ba8c",
   "metadata": {},
   "outputs": [
    {
     "data": {
      "text/plain": [
       "Pune         20.0\n",
       "banglore    100.0\n",
       "delhi         NaN\n",
       "hydrabad      NaN\n",
       "mumbai       40.0\n",
       "nashik       60.0\n",
       "dtype: float64"
      ]
     },
     "execution_count": 23,
     "metadata": {},
     "output_type": "execute_result"
    }
   ],
   "source": [
    "s1+s2"
   ]
  },
  {
   "cell_type": "markdown",
   "id": "008d498e-148a-4281-855f-2dd3b005dc12",
   "metadata": {},
   "source": [
    "# DataFrame"
   ]
  },
  {
   "cell_type": "code",
   "execution_count": 24,
   "id": "987bfe6a-e021-4f85-a531-a57cc2cc2bc6",
   "metadata": {},
   "outputs": [],
   "source": [
    "#DataFrame==>create table \n",
    "import numpy as np"
   ]
  },
  {
   "cell_type": "code",
   "execution_count": 27,
   "id": "89583549-7d6f-4f38-8552-672ae4cea837",
   "metadata": {},
   "outputs": [],
   "source": [
    "data=pd.DataFrame(np.random.randn(5,4),['A','B','C','D','E'],['W','X','Y','Z'])"
   ]
  },
  {
   "cell_type": "code",
   "execution_count": 29,
   "id": "de859c3e-fe4e-43a1-97ff-1f18f7d1ae10",
   "metadata": {
    "scrolled": true
   },
   "outputs": [
    {
     "data": {
      "text/html": [
       "<div>\n",
       "<style scoped>\n",
       "    .dataframe tbody tr th:only-of-type {\n",
       "        vertical-align: middle;\n",
       "    }\n",
       "\n",
       "    .dataframe tbody tr th {\n",
       "        vertical-align: top;\n",
       "    }\n",
       "\n",
       "    .dataframe thead th {\n",
       "        text-align: right;\n",
       "    }\n",
       "</style>\n",
       "<table border=\"1\" class=\"dataframe\">\n",
       "  <thead>\n",
       "    <tr style=\"text-align: right;\">\n",
       "      <th></th>\n",
       "      <th>W</th>\n",
       "      <th>X</th>\n",
       "      <th>Y</th>\n",
       "      <th>Z</th>\n",
       "    </tr>\n",
       "  </thead>\n",
       "  <tbody>\n",
       "    <tr>\n",
       "      <th>A</th>\n",
       "      <td>-1.380752</td>\n",
       "      <td>-0.622037</td>\n",
       "      <td>-0.415421</td>\n",
       "      <td>-1.017420</td>\n",
       "    </tr>\n",
       "    <tr>\n",
       "      <th>B</th>\n",
       "      <td>-0.420167</td>\n",
       "      <td>-0.589197</td>\n",
       "      <td>-2.068870</td>\n",
       "      <td>-0.178594</td>\n",
       "    </tr>\n",
       "    <tr>\n",
       "      <th>C</th>\n",
       "      <td>1.540066</td>\n",
       "      <td>-0.471704</td>\n",
       "      <td>0.278706</td>\n",
       "      <td>-0.573298</td>\n",
       "    </tr>\n",
       "    <tr>\n",
       "      <th>D</th>\n",
       "      <td>-0.387986</td>\n",
       "      <td>-1.309571</td>\n",
       "      <td>0.093888</td>\n",
       "      <td>-0.513614</td>\n",
       "    </tr>\n",
       "    <tr>\n",
       "      <th>E</th>\n",
       "      <td>-0.028466</td>\n",
       "      <td>0.763950</td>\n",
       "      <td>-0.538313</td>\n",
       "      <td>-1.711082</td>\n",
       "    </tr>\n",
       "  </tbody>\n",
       "</table>\n",
       "</div>"
      ],
      "text/plain": [
       "          W         X         Y         Z\n",
       "A -1.380752 -0.622037 -0.415421 -1.017420\n",
       "B -0.420167 -0.589197 -2.068870 -0.178594\n",
       "C  1.540066 -0.471704  0.278706 -0.573298\n",
       "D -0.387986 -1.309571  0.093888 -0.513614\n",
       "E -0.028466  0.763950 -0.538313 -1.711082"
      ]
     },
     "execution_count": 29,
     "metadata": {},
     "output_type": "execute_result"
    }
   ],
   "source": [
    "data"
   ]
  },
  {
   "cell_type": "code",
   "execution_count": 30,
   "id": "5214fcd7-6708-4175-8898-a392489ad5ea",
   "metadata": {},
   "outputs": [
    {
     "data": {
      "text/plain": [
       "array([[ 2.03925314,  0.0670603 ,  1.08243044, -1.9971705 ],\n",
       "       [-0.05874378,  0.09803026,  0.09054855, -0.39585892],\n",
       "       [ 1.08062587, -0.71650007,  1.18285096, -0.60548481],\n",
       "       [ 1.33804655, -0.08928477, -0.28642999,  0.07291351],\n",
       "       [-0.16496065, -1.2305731 ,  0.22839032,  0.57310991]])"
      ]
     },
     "execution_count": 30,
     "metadata": {},
     "output_type": "execute_result"
    }
   ],
   "source": [
    "np.random.randn(5,4)"
   ]
  },
  {
   "cell_type": "code",
   "execution_count": 31,
   "id": "0908f989-23dc-46a1-a5ae-c9fadb89d352",
   "metadata": {},
   "outputs": [
    {
     "data": {
      "text/plain": [
       "pandas.core.frame.DataFrame"
      ]
     },
     "execution_count": 31,
     "metadata": {},
     "output_type": "execute_result"
    }
   ],
   "source": [
    "type(data)"
   ]
  },
  {
   "cell_type": "code",
   "execution_count": 32,
   "id": "66f61279-0e4b-4f2b-8261-484f88ec2a79",
   "metadata": {},
   "outputs": [
    {
     "data": {
      "text/plain": [
       "(5, 4)"
      ]
     },
     "execution_count": 32,
     "metadata": {},
     "output_type": "execute_result"
    }
   ],
   "source": [
    "data.shape"
   ]
  },
  {
   "cell_type": "code",
   "execution_count": 35,
   "id": "8dcd8c17-8a73-46cd-8167-b1e38bf036ad",
   "metadata": {},
   "outputs": [
    {
     "data": {
      "text/plain": [
       "pandas.core.series.Series"
      ]
     },
     "execution_count": 35,
     "metadata": {},
     "output_type": "execute_result"
    }
   ],
   "source": [
    "type(data['W'])"
   ]
  },
  {
   "cell_type": "code",
   "execution_count": 36,
   "id": "baa482ea-41ae-49f0-9e7a-66f74b8cab83",
   "metadata": {},
   "outputs": [
    {
     "data": {
      "text/plain": [
       "A   -1.380752\n",
       "B   -0.420167\n",
       "C    1.540066\n",
       "D   -0.387986\n",
       "E   -0.028466\n",
       "Name: W, dtype: float64"
      ]
     },
     "execution_count": 36,
     "metadata": {},
     "output_type": "execute_result"
    }
   ],
   "source": [
    "data['W']"
   ]
  },
  {
   "cell_type": "code",
   "execution_count": 38,
   "id": "2d06c525-8e70-45e2-8be9-096ffc452077",
   "metadata": {},
   "outputs": [
    {
     "data": {
      "text/html": [
       "<div>\n",
       "<style scoped>\n",
       "    .dataframe tbody tr th:only-of-type {\n",
       "        vertical-align: middle;\n",
       "    }\n",
       "\n",
       "    .dataframe tbody tr th {\n",
       "        vertical-align: top;\n",
       "    }\n",
       "\n",
       "    .dataframe thead th {\n",
       "        text-align: right;\n",
       "    }\n",
       "</style>\n",
       "<table border=\"1\" class=\"dataframe\">\n",
       "  <thead>\n",
       "    <tr style=\"text-align: right;\">\n",
       "      <th></th>\n",
       "      <th>W</th>\n",
       "      <th>Y</th>\n",
       "    </tr>\n",
       "  </thead>\n",
       "  <tbody>\n",
       "    <tr>\n",
       "      <th>A</th>\n",
       "      <td>-1.380752</td>\n",
       "      <td>-0.415421</td>\n",
       "    </tr>\n",
       "    <tr>\n",
       "      <th>B</th>\n",
       "      <td>-0.420167</td>\n",
       "      <td>-2.068870</td>\n",
       "    </tr>\n",
       "    <tr>\n",
       "      <th>C</th>\n",
       "      <td>1.540066</td>\n",
       "      <td>0.278706</td>\n",
       "    </tr>\n",
       "    <tr>\n",
       "      <th>D</th>\n",
       "      <td>-0.387986</td>\n",
       "      <td>0.093888</td>\n",
       "    </tr>\n",
       "    <tr>\n",
       "      <th>E</th>\n",
       "      <td>-0.028466</td>\n",
       "      <td>-0.538313</td>\n",
       "    </tr>\n",
       "  </tbody>\n",
       "</table>\n",
       "</div>"
      ],
      "text/plain": [
       "          W         Y\n",
       "A -1.380752 -0.415421\n",
       "B -0.420167 -2.068870\n",
       "C  1.540066  0.278706\n",
       "D -0.387986  0.093888\n",
       "E -0.028466 -0.538313"
      ]
     },
     "execution_count": 38,
     "metadata": {},
     "output_type": "execute_result"
    }
   ],
   "source": [
    "data[['W','Y']]"
   ]
  },
  {
   "cell_type": "code",
   "execution_count": 39,
   "id": "a85071ea-88cd-4008-8865-ac561424687a",
   "metadata": {},
   "outputs": [
    {
     "data": {
      "text/plain": [
       "pandas.core.frame.DataFrame"
      ]
     },
     "execution_count": 39,
     "metadata": {},
     "output_type": "execute_result"
    }
   ],
   "source": [
    "type(data[['W','Y']])"
   ]
  },
  {
   "cell_type": "code",
   "execution_count": 40,
   "id": "6aa9c13e-b565-483a-a44b-7b661b3bb1fd",
   "metadata": {},
   "outputs": [
    {
     "data": {
      "text/html": [
       "<div>\n",
       "<style scoped>\n",
       "    .dataframe tbody tr th:only-of-type {\n",
       "        vertical-align: middle;\n",
       "    }\n",
       "\n",
       "    .dataframe tbody tr th {\n",
       "        vertical-align: top;\n",
       "    }\n",
       "\n",
       "    .dataframe thead th {\n",
       "        text-align: right;\n",
       "    }\n",
       "</style>\n",
       "<table border=\"1\" class=\"dataframe\">\n",
       "  <thead>\n",
       "    <tr style=\"text-align: right;\">\n",
       "      <th></th>\n",
       "      <th>W</th>\n",
       "      <th>X</th>\n",
       "    </tr>\n",
       "  </thead>\n",
       "  <tbody>\n",
       "    <tr>\n",
       "      <th>A</th>\n",
       "      <td>-1.380752</td>\n",
       "      <td>-0.622037</td>\n",
       "    </tr>\n",
       "    <tr>\n",
       "      <th>B</th>\n",
       "      <td>-0.420167</td>\n",
       "      <td>-0.589197</td>\n",
       "    </tr>\n",
       "    <tr>\n",
       "      <th>C</th>\n",
       "      <td>1.540066</td>\n",
       "      <td>-0.471704</td>\n",
       "    </tr>\n",
       "    <tr>\n",
       "      <th>D</th>\n",
       "      <td>-0.387986</td>\n",
       "      <td>-1.309571</td>\n",
       "    </tr>\n",
       "    <tr>\n",
       "      <th>E</th>\n",
       "      <td>-0.028466</td>\n",
       "      <td>0.763950</td>\n",
       "    </tr>\n",
       "  </tbody>\n",
       "</table>\n",
       "</div>"
      ],
      "text/plain": [
       "          W         X\n",
       "A -1.380752 -0.622037\n",
       "B -0.420167 -0.589197\n",
       "C  1.540066 -0.471704\n",
       "D -0.387986 -1.309571\n",
       "E -0.028466  0.763950"
      ]
     },
     "execution_count": 40,
     "metadata": {},
     "output_type": "execute_result"
    }
   ],
   "source": [
    "data[['W','X']]"
   ]
  },
  {
   "cell_type": "code",
   "execution_count": 41,
   "id": "f63d0c64-dad9-4292-987e-707298dffb59",
   "metadata": {},
   "outputs": [
    {
     "data": {
      "text/plain": [
       "pandas.core.frame.DataFrame"
      ]
     },
     "execution_count": 41,
     "metadata": {},
     "output_type": "execute_result"
    }
   ],
   "source": [
    "type(data[['W','X']])"
   ]
  },
  {
   "cell_type": "code",
   "execution_count": 42,
   "id": "3c345e7c-29e9-40ed-8e00-e08d7b3a6910",
   "metadata": {},
   "outputs": [
    {
     "data": {
      "text/html": [
       "<div>\n",
       "<style scoped>\n",
       "    .dataframe tbody tr th:only-of-type {\n",
       "        vertical-align: middle;\n",
       "    }\n",
       "\n",
       "    .dataframe tbody tr th {\n",
       "        vertical-align: top;\n",
       "    }\n",
       "\n",
       "    .dataframe thead th {\n",
       "        text-align: right;\n",
       "    }\n",
       "</style>\n",
       "<table border=\"1\" class=\"dataframe\">\n",
       "  <thead>\n",
       "    <tr style=\"text-align: right;\">\n",
       "      <th></th>\n",
       "      <th>W</th>\n",
       "      <th>X</th>\n",
       "      <th>Y</th>\n",
       "      <th>Z</th>\n",
       "    </tr>\n",
       "  </thead>\n",
       "  <tbody>\n",
       "    <tr>\n",
       "      <th>A</th>\n",
       "      <td>-1.380752</td>\n",
       "      <td>-0.622037</td>\n",
       "      <td>-0.415421</td>\n",
       "      <td>-1.017420</td>\n",
       "    </tr>\n",
       "    <tr>\n",
       "      <th>B</th>\n",
       "      <td>-0.420167</td>\n",
       "      <td>-0.589197</td>\n",
       "      <td>-2.068870</td>\n",
       "      <td>-0.178594</td>\n",
       "    </tr>\n",
       "    <tr>\n",
       "      <th>C</th>\n",
       "      <td>1.540066</td>\n",
       "      <td>-0.471704</td>\n",
       "      <td>0.278706</td>\n",
       "      <td>-0.573298</td>\n",
       "    </tr>\n",
       "    <tr>\n",
       "      <th>D</th>\n",
       "      <td>-0.387986</td>\n",
       "      <td>-1.309571</td>\n",
       "      <td>0.093888</td>\n",
       "      <td>-0.513614</td>\n",
       "    </tr>\n",
       "    <tr>\n",
       "      <th>E</th>\n",
       "      <td>-0.028466</td>\n",
       "      <td>0.763950</td>\n",
       "      <td>-0.538313</td>\n",
       "      <td>-1.711082</td>\n",
       "    </tr>\n",
       "  </tbody>\n",
       "</table>\n",
       "</div>"
      ],
      "text/plain": [
       "          W         X         Y         Z\n",
       "A -1.380752 -0.622037 -0.415421 -1.017420\n",
       "B -0.420167 -0.589197 -2.068870 -0.178594\n",
       "C  1.540066 -0.471704  0.278706 -0.573298\n",
       "D -0.387986 -1.309571  0.093888 -0.513614\n",
       "E -0.028466  0.763950 -0.538313 -1.711082"
      ]
     },
     "execution_count": 42,
     "metadata": {},
     "output_type": "execute_result"
    }
   ],
   "source": [
    "data"
   ]
  },
  {
   "cell_type": "code",
   "execution_count": 44,
   "id": "b0edb2b5-8e3d-48ce-aa50-21bf9856f116",
   "metadata": {},
   "outputs": [
    {
     "data": {
      "text/plain": [
       "W   -0.420167\n",
       "X   -0.589197\n",
       "Y   -2.068870\n",
       "Z   -0.178594\n",
       "Name: B, dtype: float64"
      ]
     },
     "execution_count": 44,
     "metadata": {},
     "output_type": "execute_result"
    }
   ],
   "source": [
    "data.loc['B']"
   ]
  },
  {
   "cell_type": "code",
   "execution_count": 45,
   "id": "d53d8b31-3b26-43d7-9a3b-acb7b3b0e51a",
   "metadata": {},
   "outputs": [
    {
     "data": {
      "text/plain": [
       "pandas.core.series.Series"
      ]
     },
     "execution_count": 45,
     "metadata": {},
     "output_type": "execute_result"
    }
   ],
   "source": [
    "type(data.loc['B'])"
   ]
  },
  {
   "cell_type": "code",
   "execution_count": 47,
   "id": "f0142307-d06f-4ee4-90e9-859a743f59e7",
   "metadata": {},
   "outputs": [
    {
     "data": {
      "text/html": [
       "<div>\n",
       "<style scoped>\n",
       "    .dataframe tbody tr th:only-of-type {\n",
       "        vertical-align: middle;\n",
       "    }\n",
       "\n",
       "    .dataframe tbody tr th {\n",
       "        vertical-align: top;\n",
       "    }\n",
       "\n",
       "    .dataframe thead th {\n",
       "        text-align: right;\n",
       "    }\n",
       "</style>\n",
       "<table border=\"1\" class=\"dataframe\">\n",
       "  <thead>\n",
       "    <tr style=\"text-align: right;\">\n",
       "      <th></th>\n",
       "      <th>W</th>\n",
       "      <th>X</th>\n",
       "      <th>Y</th>\n",
       "      <th>Z</th>\n",
       "    </tr>\n",
       "  </thead>\n",
       "  <tbody>\n",
       "    <tr>\n",
       "      <th>A</th>\n",
       "      <td>-1.380752</td>\n",
       "      <td>-0.622037</td>\n",
       "      <td>-0.415421</td>\n",
       "      <td>-1.017420</td>\n",
       "    </tr>\n",
       "    <tr>\n",
       "      <th>B</th>\n",
       "      <td>-0.420167</td>\n",
       "      <td>-0.589197</td>\n",
       "      <td>-2.068870</td>\n",
       "      <td>-0.178594</td>\n",
       "    </tr>\n",
       "    <tr>\n",
       "      <th>C</th>\n",
       "      <td>1.540066</td>\n",
       "      <td>-0.471704</td>\n",
       "      <td>0.278706</td>\n",
       "      <td>-0.573298</td>\n",
       "    </tr>\n",
       "    <tr>\n",
       "      <th>D</th>\n",
       "      <td>-0.387986</td>\n",
       "      <td>-1.309571</td>\n",
       "      <td>0.093888</td>\n",
       "      <td>-0.513614</td>\n",
       "    </tr>\n",
       "    <tr>\n",
       "      <th>E</th>\n",
       "      <td>-0.028466</td>\n",
       "      <td>0.763950</td>\n",
       "      <td>-0.538313</td>\n",
       "      <td>-1.711082</td>\n",
       "    </tr>\n",
       "  </tbody>\n",
       "</table>\n",
       "</div>"
      ],
      "text/plain": [
       "          W         X         Y         Z\n",
       "A -1.380752 -0.622037 -0.415421 -1.017420\n",
       "B -0.420167 -0.589197 -2.068870 -0.178594\n",
       "C  1.540066 -0.471704  0.278706 -0.573298\n",
       "D -0.387986 -1.309571  0.093888 -0.513614\n",
       "E -0.028466  0.763950 -0.538313 -1.711082"
      ]
     },
     "execution_count": 47,
     "metadata": {},
     "output_type": "execute_result"
    }
   ],
   "source": [
    "data"
   ]
  },
  {
   "cell_type": "code",
   "execution_count": 48,
   "id": "e5316949-9b4e-48d0-823f-38a0c34f0df5",
   "metadata": {},
   "outputs": [
    {
     "data": {
      "text/plain": [
       "-2.0688703534320037"
      ]
     },
     "execution_count": 48,
     "metadata": {},
     "output_type": "execute_result"
    }
   ],
   "source": [
    "data.loc['B','Y']"
   ]
  },
  {
   "cell_type": "code",
   "execution_count": 50,
   "id": "55f95308-a131-4299-833e-6b80e48115be",
   "metadata": {},
   "outputs": [
    {
     "data": {
      "text/plain": [
       "numpy.float64"
      ]
     },
     "execution_count": 50,
     "metadata": {},
     "output_type": "execute_result"
    }
   ],
   "source": [
    "type(data.loc['B','Y'])"
   ]
  },
  {
   "cell_type": "code",
   "execution_count": 53,
   "id": "4f7a2c5d-ff9f-46f1-a8aa-55ec1fdaaf04",
   "metadata": {},
   "outputs": [
    {
     "data": {
      "text/html": [
       "<div>\n",
       "<style scoped>\n",
       "    .dataframe tbody tr th:only-of-type {\n",
       "        vertical-align: middle;\n",
       "    }\n",
       "\n",
       "    .dataframe tbody tr th {\n",
       "        vertical-align: top;\n",
       "    }\n",
       "\n",
       "    .dataframe thead th {\n",
       "        text-align: right;\n",
       "    }\n",
       "</style>\n",
       "<table border=\"1\" class=\"dataframe\">\n",
       "  <thead>\n",
       "    <tr style=\"text-align: right;\">\n",
       "      <th></th>\n",
       "      <th>W</th>\n",
       "      <th>X</th>\n",
       "      <th>Y</th>\n",
       "      <th>Z</th>\n",
       "    </tr>\n",
       "  </thead>\n",
       "  <tbody>\n",
       "    <tr>\n",
       "      <th>A</th>\n",
       "      <td>-1.380752</td>\n",
       "      <td>-0.622037</td>\n",
       "      <td>-0.415421</td>\n",
       "      <td>-1.017420</td>\n",
       "    </tr>\n",
       "    <tr>\n",
       "      <th>B</th>\n",
       "      <td>-0.420167</td>\n",
       "      <td>-0.589197</td>\n",
       "      <td>-2.068870</td>\n",
       "      <td>-0.178594</td>\n",
       "    </tr>\n",
       "    <tr>\n",
       "      <th>C</th>\n",
       "      <td>1.540066</td>\n",
       "      <td>-0.471704</td>\n",
       "      <td>0.278706</td>\n",
       "      <td>-0.573298</td>\n",
       "    </tr>\n",
       "    <tr>\n",
       "      <th>D</th>\n",
       "      <td>-0.387986</td>\n",
       "      <td>-1.309571</td>\n",
       "      <td>0.093888</td>\n",
       "      <td>-0.513614</td>\n",
       "    </tr>\n",
       "    <tr>\n",
       "      <th>E</th>\n",
       "      <td>-0.028466</td>\n",
       "      <td>0.763950</td>\n",
       "      <td>-0.538313</td>\n",
       "      <td>-1.711082</td>\n",
       "    </tr>\n",
       "  </tbody>\n",
       "</table>\n",
       "</div>"
      ],
      "text/plain": [
       "          W         X         Y         Z\n",
       "A -1.380752 -0.622037 -0.415421 -1.017420\n",
       "B -0.420167 -0.589197 -2.068870 -0.178594\n",
       "C  1.540066 -0.471704  0.278706 -0.573298\n",
       "D -0.387986 -1.309571  0.093888 -0.513614\n",
       "E -0.028466  0.763950 -0.538313 -1.711082"
      ]
     },
     "execution_count": 53,
     "metadata": {},
     "output_type": "execute_result"
    }
   ],
   "source": [
    "data"
   ]
  },
  {
   "cell_type": "code",
   "execution_count": 54,
   "id": "b629761c-dba3-4197-a687-63f672d70bb8",
   "metadata": {},
   "outputs": [
    {
     "data": {
      "text/html": [
       "<div>\n",
       "<style scoped>\n",
       "    .dataframe tbody tr th:only-of-type {\n",
       "        vertical-align: middle;\n",
       "    }\n",
       "\n",
       "    .dataframe tbody tr th {\n",
       "        vertical-align: top;\n",
       "    }\n",
       "\n",
       "    .dataframe thead th {\n",
       "        text-align: right;\n",
       "    }\n",
       "</style>\n",
       "<table border=\"1\" class=\"dataframe\">\n",
       "  <thead>\n",
       "    <tr style=\"text-align: right;\">\n",
       "      <th></th>\n",
       "      <th>W</th>\n",
       "      <th>X</th>\n",
       "      <th>Y</th>\n",
       "      <th>Z</th>\n",
       "    </tr>\n",
       "  </thead>\n",
       "  <tbody>\n",
       "    <tr>\n",
       "      <th>C</th>\n",
       "      <td>1.540066</td>\n",
       "      <td>-0.471704</td>\n",
       "      <td>0.278706</td>\n",
       "      <td>-0.573298</td>\n",
       "    </tr>\n",
       "  </tbody>\n",
       "</table>\n",
       "</div>"
      ],
      "text/plain": [
       "          W         X         Y         Z\n",
       "C  1.540066 -0.471704  0.278706 -0.573298"
      ]
     },
     "execution_count": 54,
     "metadata": {},
     "output_type": "execute_result"
    }
   ],
   "source": [
    "data[data['W']>0]"
   ]
  },
  {
   "cell_type": "code",
   "execution_count": 55,
   "id": "b28b5258-650f-4961-8b54-c7d18b47cb31",
   "metadata": {},
   "outputs": [
    {
     "data": {
      "text/html": [
       "<div>\n",
       "<style scoped>\n",
       "    .dataframe tbody tr th:only-of-type {\n",
       "        vertical-align: middle;\n",
       "    }\n",
       "\n",
       "    .dataframe tbody tr th {\n",
       "        vertical-align: top;\n",
       "    }\n",
       "\n",
       "    .dataframe thead th {\n",
       "        text-align: right;\n",
       "    }\n",
       "</style>\n",
       "<table border=\"1\" class=\"dataframe\">\n",
       "  <thead>\n",
       "    <tr style=\"text-align: right;\">\n",
       "      <th></th>\n",
       "      <th>W</th>\n",
       "      <th>X</th>\n",
       "      <th>Y</th>\n",
       "      <th>Z</th>\n",
       "    </tr>\n",
       "  </thead>\n",
       "  <tbody>\n",
       "    <tr>\n",
       "      <th>A</th>\n",
       "      <td>-1.380752</td>\n",
       "      <td>-0.622037</td>\n",
       "      <td>-0.415421</td>\n",
       "      <td>-1.017420</td>\n",
       "    </tr>\n",
       "    <tr>\n",
       "      <th>B</th>\n",
       "      <td>-0.420167</td>\n",
       "      <td>-0.589197</td>\n",
       "      <td>-2.068870</td>\n",
       "      <td>-0.178594</td>\n",
       "    </tr>\n",
       "    <tr>\n",
       "      <th>C</th>\n",
       "      <td>1.540066</td>\n",
       "      <td>-0.471704</td>\n",
       "      <td>0.278706</td>\n",
       "      <td>-0.573298</td>\n",
       "    </tr>\n",
       "    <tr>\n",
       "      <th>D</th>\n",
       "      <td>-0.387986</td>\n",
       "      <td>-1.309571</td>\n",
       "      <td>0.093888</td>\n",
       "      <td>-0.513614</td>\n",
       "    </tr>\n",
       "    <tr>\n",
       "      <th>E</th>\n",
       "      <td>-0.028466</td>\n",
       "      <td>0.763950</td>\n",
       "      <td>-0.538313</td>\n",
       "      <td>-1.711082</td>\n",
       "    </tr>\n",
       "  </tbody>\n",
       "</table>\n",
       "</div>"
      ],
      "text/plain": [
       "          W         X         Y         Z\n",
       "A -1.380752 -0.622037 -0.415421 -1.017420\n",
       "B -0.420167 -0.589197 -2.068870 -0.178594\n",
       "C  1.540066 -0.471704  0.278706 -0.573298\n",
       "D -0.387986 -1.309571  0.093888 -0.513614\n",
       "E -0.028466  0.763950 -0.538313 -1.711082"
      ]
     },
     "execution_count": 55,
     "metadata": {},
     "output_type": "execute_result"
    }
   ],
   "source": [
    "data"
   ]
  },
  {
   "cell_type": "code",
   "execution_count": 58,
   "id": "c67baa4f-08fe-4722-963a-8bd8c3fa423f",
   "metadata": {},
   "outputs": [
    {
     "data": {
      "text/plain": [
       "C   -0.573298\n",
       "Name: Z, dtype: float64"
      ]
     },
     "execution_count": 58,
     "metadata": {},
     "output_type": "execute_result"
    }
   ],
   "source": [
    "data.loc[data['W']>0,'Z']"
   ]
  },
  {
   "cell_type": "code",
   "execution_count": 59,
   "id": "b814912d-6b4a-4ddc-acde-ed2d77774345",
   "metadata": {},
   "outputs": [
    {
     "data": {
      "text/plain": [
       "C   -0.573298\n",
       "Name: Z, dtype: float64"
      ]
     },
     "execution_count": 59,
     "metadata": {},
     "output_type": "execute_result"
    }
   ],
   "source": [
    "data[data['W']>0]['Z']"
   ]
  },
  {
   "cell_type": "code",
   "execution_count": 60,
   "id": "5fe4cbdd-4e15-47b9-a8d0-a14c78d8ab40",
   "metadata": {},
   "outputs": [
    {
     "data": {
      "text/html": [
       "<div>\n",
       "<style scoped>\n",
       "    .dataframe tbody tr th:only-of-type {\n",
       "        vertical-align: middle;\n",
       "    }\n",
       "\n",
       "    .dataframe tbody tr th {\n",
       "        vertical-align: top;\n",
       "    }\n",
       "\n",
       "    .dataframe thead th {\n",
       "        text-align: right;\n",
       "    }\n",
       "</style>\n",
       "<table border=\"1\" class=\"dataframe\">\n",
       "  <thead>\n",
       "    <tr style=\"text-align: right;\">\n",
       "      <th></th>\n",
       "      <th>W</th>\n",
       "      <th>X</th>\n",
       "      <th>Y</th>\n",
       "      <th>Z</th>\n",
       "    </tr>\n",
       "  </thead>\n",
       "  <tbody>\n",
       "    <tr>\n",
       "      <th>A</th>\n",
       "      <td>-1.380752</td>\n",
       "      <td>-0.622037</td>\n",
       "      <td>-0.415421</td>\n",
       "      <td>-1.017420</td>\n",
       "    </tr>\n",
       "    <tr>\n",
       "      <th>B</th>\n",
       "      <td>-0.420167</td>\n",
       "      <td>-0.589197</td>\n",
       "      <td>-2.068870</td>\n",
       "      <td>-0.178594</td>\n",
       "    </tr>\n",
       "    <tr>\n",
       "      <th>C</th>\n",
       "      <td>1.540066</td>\n",
       "      <td>-0.471704</td>\n",
       "      <td>0.278706</td>\n",
       "      <td>-0.573298</td>\n",
       "    </tr>\n",
       "    <tr>\n",
       "      <th>D</th>\n",
       "      <td>-0.387986</td>\n",
       "      <td>-1.309571</td>\n",
       "      <td>0.093888</td>\n",
       "      <td>-0.513614</td>\n",
       "    </tr>\n",
       "    <tr>\n",
       "      <th>E</th>\n",
       "      <td>-0.028466</td>\n",
       "      <td>0.763950</td>\n",
       "      <td>-0.538313</td>\n",
       "      <td>-1.711082</td>\n",
       "    </tr>\n",
       "  </tbody>\n",
       "</table>\n",
       "</div>"
      ],
      "text/plain": [
       "          W         X         Y         Z\n",
       "A -1.380752 -0.622037 -0.415421 -1.017420\n",
       "B -0.420167 -0.589197 -2.068870 -0.178594\n",
       "C  1.540066 -0.471704  0.278706 -0.573298\n",
       "D -0.387986 -1.309571  0.093888 -0.513614\n",
       "E -0.028466  0.763950 -0.538313 -1.711082"
      ]
     },
     "execution_count": 60,
     "metadata": {},
     "output_type": "execute_result"
    }
   ],
   "source": [
    "data"
   ]
  },
  {
   "cell_type": "code",
   "execution_count": 64,
   "id": "a8cf01f2-8e54-4b94-88a8-13decff97af0",
   "metadata": {},
   "outputs": [
    {
     "ename": "KeyError",
     "evalue": "\"['new_column'] not found in axis\"",
     "output_type": "error",
     "traceback": [
      "\u001b[1;31m---------------------------------------------------------------------------\u001b[0m",
      "\u001b[1;31mKeyError\u001b[0m                                  Traceback (most recent call last)",
      "Cell \u001b[1;32mIn[64], line 1\u001b[0m\n\u001b[1;32m----> 1\u001b[0m data\u001b[38;5;241m.\u001b[39mdrop(\u001b[38;5;124m\"\u001b[39m\u001b[38;5;124mnew_column\u001b[39m\u001b[38;5;124m\"\u001b[39m,axis\u001b[38;5;241m=\u001b[39m\u001b[38;5;241m1\u001b[39m,inplace\u001b[38;5;241m=\u001b[39m\u001b[38;5;28;01mTrue\u001b[39;00m)\n",
      "File \u001b[1;32m~\\anaconda3\\Lib\\site-packages\\pandas\\core\\frame.py:5344\u001b[0m, in \u001b[0;36mDataFrame.drop\u001b[1;34m(self, labels, axis, index, columns, level, inplace, errors)\u001b[0m\n\u001b[0;32m   5196\u001b[0m \u001b[38;5;28;01mdef\u001b[39;00m \u001b[38;5;21mdrop\u001b[39m(\n\u001b[0;32m   5197\u001b[0m     \u001b[38;5;28mself\u001b[39m,\n\u001b[0;32m   5198\u001b[0m     labels: IndexLabel \u001b[38;5;241m|\u001b[39m \u001b[38;5;28;01mNone\u001b[39;00m \u001b[38;5;241m=\u001b[39m \u001b[38;5;28;01mNone\u001b[39;00m,\n\u001b[1;32m   (...)\u001b[0m\n\u001b[0;32m   5205\u001b[0m     errors: IgnoreRaise \u001b[38;5;241m=\u001b[39m \u001b[38;5;124m\"\u001b[39m\u001b[38;5;124mraise\u001b[39m\u001b[38;5;124m\"\u001b[39m,\n\u001b[0;32m   5206\u001b[0m ) \u001b[38;5;241m-\u001b[39m\u001b[38;5;241m>\u001b[39m DataFrame \u001b[38;5;241m|\u001b[39m \u001b[38;5;28;01mNone\u001b[39;00m:\n\u001b[0;32m   5207\u001b[0m \u001b[38;5;250m    \u001b[39m\u001b[38;5;124;03m\"\"\"\u001b[39;00m\n\u001b[0;32m   5208\u001b[0m \u001b[38;5;124;03m    Drop specified labels from rows or columns.\u001b[39;00m\n\u001b[0;32m   5209\u001b[0m \n\u001b[1;32m   (...)\u001b[0m\n\u001b[0;32m   5342\u001b[0m \u001b[38;5;124;03m            weight  1.0     0.8\u001b[39;00m\n\u001b[0;32m   5343\u001b[0m \u001b[38;5;124;03m    \"\"\"\u001b[39;00m\n\u001b[1;32m-> 5344\u001b[0m     \u001b[38;5;28;01mreturn\u001b[39;00m \u001b[38;5;28msuper\u001b[39m()\u001b[38;5;241m.\u001b[39mdrop(\n\u001b[0;32m   5345\u001b[0m         labels\u001b[38;5;241m=\u001b[39mlabels,\n\u001b[0;32m   5346\u001b[0m         axis\u001b[38;5;241m=\u001b[39maxis,\n\u001b[0;32m   5347\u001b[0m         index\u001b[38;5;241m=\u001b[39mindex,\n\u001b[0;32m   5348\u001b[0m         columns\u001b[38;5;241m=\u001b[39mcolumns,\n\u001b[0;32m   5349\u001b[0m         level\u001b[38;5;241m=\u001b[39mlevel,\n\u001b[0;32m   5350\u001b[0m         inplace\u001b[38;5;241m=\u001b[39minplace,\n\u001b[0;32m   5351\u001b[0m         errors\u001b[38;5;241m=\u001b[39merrors,\n\u001b[0;32m   5352\u001b[0m     )\n",
      "File \u001b[1;32m~\\anaconda3\\Lib\\site-packages\\pandas\\core\\generic.py:4711\u001b[0m, in \u001b[0;36mNDFrame.drop\u001b[1;34m(self, labels, axis, index, columns, level, inplace, errors)\u001b[0m\n\u001b[0;32m   4709\u001b[0m \u001b[38;5;28;01mfor\u001b[39;00m axis, labels \u001b[38;5;129;01min\u001b[39;00m axes\u001b[38;5;241m.\u001b[39mitems():\n\u001b[0;32m   4710\u001b[0m     \u001b[38;5;28;01mif\u001b[39;00m labels \u001b[38;5;129;01mis\u001b[39;00m \u001b[38;5;129;01mnot\u001b[39;00m \u001b[38;5;28;01mNone\u001b[39;00m:\n\u001b[1;32m-> 4711\u001b[0m         obj \u001b[38;5;241m=\u001b[39m obj\u001b[38;5;241m.\u001b[39m_drop_axis(labels, axis, level\u001b[38;5;241m=\u001b[39mlevel, errors\u001b[38;5;241m=\u001b[39merrors)\n\u001b[0;32m   4713\u001b[0m \u001b[38;5;28;01mif\u001b[39;00m inplace:\n\u001b[0;32m   4714\u001b[0m     \u001b[38;5;28mself\u001b[39m\u001b[38;5;241m.\u001b[39m_update_inplace(obj)\n",
      "File \u001b[1;32m~\\anaconda3\\Lib\\site-packages\\pandas\\core\\generic.py:4753\u001b[0m, in \u001b[0;36mNDFrame._drop_axis\u001b[1;34m(self, labels, axis, level, errors, only_slice)\u001b[0m\n\u001b[0;32m   4751\u001b[0m         new_axis \u001b[38;5;241m=\u001b[39m axis\u001b[38;5;241m.\u001b[39mdrop(labels, level\u001b[38;5;241m=\u001b[39mlevel, errors\u001b[38;5;241m=\u001b[39merrors)\n\u001b[0;32m   4752\u001b[0m     \u001b[38;5;28;01melse\u001b[39;00m:\n\u001b[1;32m-> 4753\u001b[0m         new_axis \u001b[38;5;241m=\u001b[39m axis\u001b[38;5;241m.\u001b[39mdrop(labels, errors\u001b[38;5;241m=\u001b[39merrors)\n\u001b[0;32m   4754\u001b[0m     indexer \u001b[38;5;241m=\u001b[39m axis\u001b[38;5;241m.\u001b[39mget_indexer(new_axis)\n\u001b[0;32m   4756\u001b[0m \u001b[38;5;66;03m# Case for non-unique axis\u001b[39;00m\n\u001b[0;32m   4757\u001b[0m \u001b[38;5;28;01melse\u001b[39;00m:\n",
      "File \u001b[1;32m~\\anaconda3\\Lib\\site-packages\\pandas\\core\\indexes\\base.py:7000\u001b[0m, in \u001b[0;36mIndex.drop\u001b[1;34m(self, labels, errors)\u001b[0m\n\u001b[0;32m   6998\u001b[0m \u001b[38;5;28;01mif\u001b[39;00m mask\u001b[38;5;241m.\u001b[39many():\n\u001b[0;32m   6999\u001b[0m     \u001b[38;5;28;01mif\u001b[39;00m errors \u001b[38;5;241m!=\u001b[39m \u001b[38;5;124m\"\u001b[39m\u001b[38;5;124mignore\u001b[39m\u001b[38;5;124m\"\u001b[39m:\n\u001b[1;32m-> 7000\u001b[0m         \u001b[38;5;28;01mraise\u001b[39;00m \u001b[38;5;167;01mKeyError\u001b[39;00m(\u001b[38;5;124mf\u001b[39m\u001b[38;5;124m\"\u001b[39m\u001b[38;5;132;01m{\u001b[39;00mlabels[mask]\u001b[38;5;241m.\u001b[39mtolist()\u001b[38;5;132;01m}\u001b[39;00m\u001b[38;5;124m not found in axis\u001b[39m\u001b[38;5;124m\"\u001b[39m)\n\u001b[0;32m   7001\u001b[0m     indexer \u001b[38;5;241m=\u001b[39m indexer[\u001b[38;5;241m~\u001b[39mmask]\n\u001b[0;32m   7002\u001b[0m \u001b[38;5;28;01mreturn\u001b[39;00m \u001b[38;5;28mself\u001b[39m\u001b[38;5;241m.\u001b[39mdelete(indexer)\n",
      "\u001b[1;31mKeyError\u001b[0m: \"['new_column'] not found in axis\""
     ]
    }
   ],
   "source": [
    "data.drop(\"new_column\",axis=1,inplace=True)"
   ]
  },
  {
   "cell_type": "code",
   "execution_count": 62,
   "id": "900d865d-6509-4603-a54c-4e4578cf53d3",
   "metadata": {},
   "outputs": [
    {
     "data": {
      "text/html": [
       "<div>\n",
       "<style scoped>\n",
       "    .dataframe tbody tr th:only-of-type {\n",
       "        vertical-align: middle;\n",
       "    }\n",
       "\n",
       "    .dataframe tbody tr th {\n",
       "        vertical-align: top;\n",
       "    }\n",
       "\n",
       "    .dataframe thead th {\n",
       "        text-align: right;\n",
       "    }\n",
       "</style>\n",
       "<table border=\"1\" class=\"dataframe\">\n",
       "  <thead>\n",
       "    <tr style=\"text-align: right;\">\n",
       "      <th></th>\n",
       "      <th>W</th>\n",
       "      <th>X</th>\n",
       "      <th>Y</th>\n",
       "      <th>Z</th>\n",
       "    </tr>\n",
       "  </thead>\n",
       "  <tbody>\n",
       "    <tr>\n",
       "      <th>A</th>\n",
       "      <td>-1.380752</td>\n",
       "      <td>-0.622037</td>\n",
       "      <td>-0.415421</td>\n",
       "      <td>-1.017420</td>\n",
       "    </tr>\n",
       "    <tr>\n",
       "      <th>B</th>\n",
       "      <td>-0.420167</td>\n",
       "      <td>-0.589197</td>\n",
       "      <td>-2.068870</td>\n",
       "      <td>-0.178594</td>\n",
       "    </tr>\n",
       "    <tr>\n",
       "      <th>C</th>\n",
       "      <td>1.540066</td>\n",
       "      <td>-0.471704</td>\n",
       "      <td>0.278706</td>\n",
       "      <td>-0.573298</td>\n",
       "    </tr>\n",
       "    <tr>\n",
       "      <th>D</th>\n",
       "      <td>-0.387986</td>\n",
       "      <td>-1.309571</td>\n",
       "      <td>0.093888</td>\n",
       "      <td>-0.513614</td>\n",
       "    </tr>\n",
       "    <tr>\n",
       "      <th>E</th>\n",
       "      <td>-0.028466</td>\n",
       "      <td>0.763950</td>\n",
       "      <td>-0.538313</td>\n",
       "      <td>-1.711082</td>\n",
       "    </tr>\n",
       "  </tbody>\n",
       "</table>\n",
       "</div>"
      ],
      "text/plain": [
       "          W         X         Y         Z\n",
       "A -1.380752 -0.622037 -0.415421 -1.017420\n",
       "B -0.420167 -0.589197 -2.068870 -0.178594\n",
       "C  1.540066 -0.471704  0.278706 -0.573298\n",
       "D -0.387986 -1.309571  0.093888 -0.513614\n",
       "E -0.028466  0.763950 -0.538313 -1.711082"
      ]
     },
     "execution_count": 62,
     "metadata": {},
     "output_type": "execute_result"
    }
   ],
   "source": [
    "data"
   ]
  },
  {
   "cell_type": "code",
   "execution_count": 65,
   "id": "ad0d2895-7cf1-41c3-925e-4218570eb7f6",
   "metadata": {},
   "outputs": [
    {
     "data": {
      "text/plain": [
       "['Pune', 'mumbai', 'nashik', 'delhi', 'banglore']"
      ]
     },
     "execution_count": 65,
     "metadata": {},
     "output_type": "execute_result"
    }
   ],
   "source": [
    "d3"
   ]
  },
  {
   "cell_type": "code",
   "execution_count": 68,
   "id": "ca37153d-7f57-42c7-bd0c-1e5c306f1113",
   "metadata": {},
   "outputs": [],
   "source": [
    "data.index=d3"
   ]
  },
  {
   "cell_type": "code",
   "execution_count": 69,
   "id": "7da4aab9-ee92-442f-abe0-9c2ee7f14377",
   "metadata": {},
   "outputs": [
    {
     "data": {
      "text/html": [
       "<div>\n",
       "<style scoped>\n",
       "    .dataframe tbody tr th:only-of-type {\n",
       "        vertical-align: middle;\n",
       "    }\n",
       "\n",
       "    .dataframe tbody tr th {\n",
       "        vertical-align: top;\n",
       "    }\n",
       "\n",
       "    .dataframe thead th {\n",
       "        text-align: right;\n",
       "    }\n",
       "</style>\n",
       "<table border=\"1\" class=\"dataframe\">\n",
       "  <thead>\n",
       "    <tr style=\"text-align: right;\">\n",
       "      <th></th>\n",
       "      <th>W</th>\n",
       "      <th>X</th>\n",
       "      <th>Y</th>\n",
       "      <th>Z</th>\n",
       "    </tr>\n",
       "  </thead>\n",
       "  <tbody>\n",
       "    <tr>\n",
       "      <th>Pune</th>\n",
       "      <td>-1.380752</td>\n",
       "      <td>-0.622037</td>\n",
       "      <td>-0.415421</td>\n",
       "      <td>-1.017420</td>\n",
       "    </tr>\n",
       "    <tr>\n",
       "      <th>mumbai</th>\n",
       "      <td>-0.420167</td>\n",
       "      <td>-0.589197</td>\n",
       "      <td>-2.068870</td>\n",
       "      <td>-0.178594</td>\n",
       "    </tr>\n",
       "    <tr>\n",
       "      <th>nashik</th>\n",
       "      <td>1.540066</td>\n",
       "      <td>-0.471704</td>\n",
       "      <td>0.278706</td>\n",
       "      <td>-0.573298</td>\n",
       "    </tr>\n",
       "    <tr>\n",
       "      <th>delhi</th>\n",
       "      <td>-0.387986</td>\n",
       "      <td>-1.309571</td>\n",
       "      <td>0.093888</td>\n",
       "      <td>-0.513614</td>\n",
       "    </tr>\n",
       "    <tr>\n",
       "      <th>banglore</th>\n",
       "      <td>-0.028466</td>\n",
       "      <td>0.763950</td>\n",
       "      <td>-0.538313</td>\n",
       "      <td>-1.711082</td>\n",
       "    </tr>\n",
       "  </tbody>\n",
       "</table>\n",
       "</div>"
      ],
      "text/plain": [
       "                 W         X         Y         Z\n",
       "Pune     -1.380752 -0.622037 -0.415421 -1.017420\n",
       "mumbai   -0.420167 -0.589197 -2.068870 -0.178594\n",
       "nashik    1.540066 -0.471704  0.278706 -0.573298\n",
       "delhi    -0.387986 -1.309571  0.093888 -0.513614\n",
       "banglore -0.028466  0.763950 -0.538313 -1.711082"
      ]
     },
     "execution_count": 69,
     "metadata": {},
     "output_type": "execute_result"
    }
   ],
   "source": [
    "data"
   ]
  },
  {
   "cell_type": "code",
   "execution_count": 70,
   "id": "d108b1c7-2a13-4790-86dd-b5f9baa8a68d",
   "metadata": {},
   "outputs": [
    {
     "data": {
      "text/html": [
       "<div>\n",
       "<style scoped>\n",
       "    .dataframe tbody tr th:only-of-type {\n",
       "        vertical-align: middle;\n",
       "    }\n",
       "\n",
       "    .dataframe tbody tr th {\n",
       "        vertical-align: top;\n",
       "    }\n",
       "\n",
       "    .dataframe thead th {\n",
       "        text-align: right;\n",
       "    }\n",
       "</style>\n",
       "<table border=\"1\" class=\"dataframe\">\n",
       "  <thead>\n",
       "    <tr style=\"text-align: right;\">\n",
       "      <th></th>\n",
       "      <th>index</th>\n",
       "      <th>W</th>\n",
       "      <th>X</th>\n",
       "      <th>Y</th>\n",
       "      <th>Z</th>\n",
       "    </tr>\n",
       "  </thead>\n",
       "  <tbody>\n",
       "    <tr>\n",
       "      <th>0</th>\n",
       "      <td>Pune</td>\n",
       "      <td>-1.380752</td>\n",
       "      <td>-0.622037</td>\n",
       "      <td>-0.415421</td>\n",
       "      <td>-1.017420</td>\n",
       "    </tr>\n",
       "    <tr>\n",
       "      <th>1</th>\n",
       "      <td>mumbai</td>\n",
       "      <td>-0.420167</td>\n",
       "      <td>-0.589197</td>\n",
       "      <td>-2.068870</td>\n",
       "      <td>-0.178594</td>\n",
       "    </tr>\n",
       "    <tr>\n",
       "      <th>2</th>\n",
       "      <td>nashik</td>\n",
       "      <td>1.540066</td>\n",
       "      <td>-0.471704</td>\n",
       "      <td>0.278706</td>\n",
       "      <td>-0.573298</td>\n",
       "    </tr>\n",
       "    <tr>\n",
       "      <th>3</th>\n",
       "      <td>delhi</td>\n",
       "      <td>-0.387986</td>\n",
       "      <td>-1.309571</td>\n",
       "      <td>0.093888</td>\n",
       "      <td>-0.513614</td>\n",
       "    </tr>\n",
       "    <tr>\n",
       "      <th>4</th>\n",
       "      <td>banglore</td>\n",
       "      <td>-0.028466</td>\n",
       "      <td>0.763950</td>\n",
       "      <td>-0.538313</td>\n",
       "      <td>-1.711082</td>\n",
       "    </tr>\n",
       "  </tbody>\n",
       "</table>\n",
       "</div>"
      ],
      "text/plain": [
       "      index         W         X         Y         Z\n",
       "0      Pune -1.380752 -0.622037 -0.415421 -1.017420\n",
       "1    mumbai -0.420167 -0.589197 -2.068870 -0.178594\n",
       "2    nashik  1.540066 -0.471704  0.278706 -0.573298\n",
       "3     delhi -0.387986 -1.309571  0.093888 -0.513614\n",
       "4  banglore -0.028466  0.763950 -0.538313 -1.711082"
      ]
     },
     "execution_count": 70,
     "metadata": {},
     "output_type": "execute_result"
    }
   ],
   "source": [
    "data.reset_index()"
   ]
  },
  {
   "cell_type": "code",
   "execution_count": 72,
   "id": "338cb3db-bad8-4953-a7c1-82021039277a",
   "metadata": {},
   "outputs": [
    {
     "data": {
      "text/html": [
       "<div>\n",
       "<style scoped>\n",
       "    .dataframe tbody tr th:only-of-type {\n",
       "        vertical-align: middle;\n",
       "    }\n",
       "\n",
       "    .dataframe tbody tr th {\n",
       "        vertical-align: top;\n",
       "    }\n",
       "\n",
       "    .dataframe thead th {\n",
       "        text-align: right;\n",
       "    }\n",
       "</style>\n",
       "<table border=\"1\" class=\"dataframe\">\n",
       "  <thead>\n",
       "    <tr style=\"text-align: right;\">\n",
       "      <th></th>\n",
       "      <th>W</th>\n",
       "      <th>X</th>\n",
       "      <th>Y</th>\n",
       "      <th>Z</th>\n",
       "    </tr>\n",
       "  </thead>\n",
       "  <tbody>\n",
       "    <tr>\n",
       "      <th>Pune</th>\n",
       "      <td>-1.380752</td>\n",
       "      <td>-0.622037</td>\n",
       "      <td>-0.415421</td>\n",
       "      <td>-1.017420</td>\n",
       "    </tr>\n",
       "    <tr>\n",
       "      <th>mumbai</th>\n",
       "      <td>-0.420167</td>\n",
       "      <td>-0.589197</td>\n",
       "      <td>-2.068870</td>\n",
       "      <td>-0.178594</td>\n",
       "    </tr>\n",
       "    <tr>\n",
       "      <th>nashik</th>\n",
       "      <td>1.540066</td>\n",
       "      <td>-0.471704</td>\n",
       "      <td>0.278706</td>\n",
       "      <td>-0.573298</td>\n",
       "    </tr>\n",
       "    <tr>\n",
       "      <th>delhi</th>\n",
       "      <td>-0.387986</td>\n",
       "      <td>-1.309571</td>\n",
       "      <td>0.093888</td>\n",
       "      <td>-0.513614</td>\n",
       "    </tr>\n",
       "    <tr>\n",
       "      <th>banglore</th>\n",
       "      <td>-0.028466</td>\n",
       "      <td>0.763950</td>\n",
       "      <td>-0.538313</td>\n",
       "      <td>-1.711082</td>\n",
       "    </tr>\n",
       "  </tbody>\n",
       "</table>\n",
       "</div>"
      ],
      "text/plain": [
       "                 W         X         Y         Z\n",
       "Pune     -1.380752 -0.622037 -0.415421 -1.017420\n",
       "mumbai   -0.420167 -0.589197 -2.068870 -0.178594\n",
       "nashik    1.540066 -0.471704  0.278706 -0.573298\n",
       "delhi    -0.387986 -1.309571  0.093888 -0.513614\n",
       "banglore -0.028466  0.763950 -0.538313 -1.711082"
      ]
     },
     "execution_count": 72,
     "metadata": {},
     "output_type": "execute_result"
    }
   ],
   "source": [
    "data"
   ]
  },
  {
   "cell_type": "code",
   "execution_count": 74,
   "id": "039a91fb-1f27-40ad-a284-2aaeaa7ebf57",
   "metadata": {},
   "outputs": [
    {
     "data": {
      "text/plain": [
       "Index(['W', 'X', 'Y', 'Z'], dtype='object')"
      ]
     },
     "execution_count": 74,
     "metadata": {},
     "output_type": "execute_result"
    }
   ],
   "source": [
    "data.columns"
   ]
  },
  {
   "cell_type": "code",
   "execution_count": 75,
   "id": "b3fa7e9e-b375-48bb-885b-06938545d4ba",
   "metadata": {},
   "outputs": [
    {
     "name": "stdout",
     "output_type": "stream",
     "text": [
      "<class 'pandas.core.frame.DataFrame'>\n",
      "Index: 5 entries, Pune to banglore\n",
      "Data columns (total 4 columns):\n",
      " #   Column  Non-Null Count  Dtype  \n",
      "---  ------  --------------  -----  \n",
      " 0   W       5 non-null      float64\n",
      " 1   X       5 non-null      float64\n",
      " 2   Y       5 non-null      float64\n",
      " 3   Z       5 non-null      float64\n",
      "dtypes: float64(4)\n",
      "memory usage: 200.0+ bytes\n"
     ]
    }
   ],
   "source": [
    "data.info()"
   ]
  },
  {
   "cell_type": "markdown",
   "id": "e3f666c4-85f8-47d9-8510-16010362f19a",
   "metadata": {},
   "source": [
    "# multi index and index hierarchy"
   ]
  },
  {
   "cell_type": "code",
   "execution_count": 76,
   "id": "a92d0930-58a4-406a-96ea-64b3834782f8",
   "metadata": {},
   "outputs": [],
   "source": [
    "outside=['G1','G1','G1','G2','G2','G2']"
   ]
  },
  {
   "cell_type": "code",
   "execution_count": 77,
   "id": "013b50e9-5593-44f2-90ab-313a429d7e1d",
   "metadata": {},
   "outputs": [],
   "source": [
    "inside=[1,2,3,1,2,3]"
   ]
  },
  {
   "cell_type": "code",
   "execution_count": 78,
   "id": "ed7eb7c9-ff0b-467a-912a-c7a290b3a313",
   "metadata": {},
   "outputs": [
    {
     "data": {
      "text/plain": [
       "<zip at 0x25d3404fc00>"
      ]
     },
     "execution_count": 78,
     "metadata": {},
     "output_type": "execute_result"
    }
   ],
   "source": [
    "zip(outside,inside)"
   ]
  },
  {
   "cell_type": "code",
   "execution_count": 82,
   "id": "fcffe38f-d043-4854-a7c4-14a7da078e21",
   "metadata": {},
   "outputs": [
    {
     "data": {
      "text/plain": [
       "[('G1', 1), ('G1', 2), ('G1', 3), ('G2', 1), ('G2', 2), ('G2', 3)]"
      ]
     },
     "execution_count": 82,
     "metadata": {},
     "output_type": "execute_result"
    }
   ],
   "source": [
    "list(zip(outside,inside)) #create list with the help of zip"
   ]
  },
  {
   "cell_type": "code",
   "execution_count": 80,
   "id": "d1138dd8-c9c9-4ee0-a705-ad0d1cd3aff3",
   "metadata": {},
   "outputs": [],
   "source": [
    "h1=list(zip(outside,inside))"
   ]
  },
  {
   "cell_type": "code",
   "execution_count": 81,
   "id": "82d507d9-8e78-4aeb-87a7-60afc9ff64c1",
   "metadata": {},
   "outputs": [
    {
     "data": {
      "text/plain": [
       "[('G1', 1), ('G1', 2), ('G1', 3), ('G2', 1), ('G2', 2), ('G2', 3)]"
      ]
     },
     "execution_count": 81,
     "metadata": {},
     "output_type": "execute_result"
    }
   ],
   "source": [
    "h1"
   ]
  },
  {
   "cell_type": "code",
   "execution_count": 85,
   "id": "62c779c4-a1e4-45a3-b058-9cfbce0ae9f1",
   "metadata": {},
   "outputs": [],
   "source": [
    "hier_index=pd.MultiIndex.from_tuples(h1)"
   ]
  },
  {
   "cell_type": "code",
   "execution_count": 86,
   "id": "bc5e022b-d1de-4bca-a2ef-cdd5aeb79486",
   "metadata": {},
   "outputs": [
    {
     "data": {
      "text/plain": [
       "MultiIndex([('G1', 1),\n",
       "            ('G1', 2),\n",
       "            ('G1', 3),\n",
       "            ('G2', 1),\n",
       "            ('G2', 2),\n",
       "            ('G2', 3)],\n",
       "           )"
      ]
     },
     "execution_count": 86,
     "metadata": {},
     "output_type": "execute_result"
    }
   ],
   "source": [
    "hier_index"
   ]
  },
  {
   "cell_type": "code",
   "execution_count": 89,
   "id": "43977a08-23d0-4d26-b5e8-70d34381aab9",
   "metadata": {},
   "outputs": [
    {
     "data": {
      "text/html": [
       "<div>\n",
       "<style scoped>\n",
       "    .dataframe tbody tr th:only-of-type {\n",
       "        vertical-align: middle;\n",
       "    }\n",
       "\n",
       "    .dataframe tbody tr th {\n",
       "        vertical-align: top;\n",
       "    }\n",
       "\n",
       "    .dataframe thead th {\n",
       "        text-align: right;\n",
       "    }\n",
       "</style>\n",
       "<table border=\"1\" class=\"dataframe\">\n",
       "  <thead>\n",
       "    <tr style=\"text-align: right;\">\n",
       "      <th></th>\n",
       "      <th></th>\n",
       "      <th>A,B</th>\n",
       "    </tr>\n",
       "  </thead>\n",
       "  <tbody>\n",
       "    <tr>\n",
       "      <th rowspan=\"3\" valign=\"top\">G1</th>\n",
       "      <th>1</th>\n",
       "      <td>-0.775317</td>\n",
       "    </tr>\n",
       "    <tr>\n",
       "      <th>2</th>\n",
       "      <td>0.550271</td>\n",
       "    </tr>\n",
       "    <tr>\n",
       "      <th>3</th>\n",
       "      <td>-0.399681</td>\n",
       "    </tr>\n",
       "    <tr>\n",
       "      <th rowspan=\"3\" valign=\"top\">G2</th>\n",
       "      <th>1</th>\n",
       "      <td>-0.592518</td>\n",
       "    </tr>\n",
       "    <tr>\n",
       "      <th>2</th>\n",
       "      <td>-0.547864</td>\n",
       "    </tr>\n",
       "    <tr>\n",
       "      <th>3</th>\n",
       "      <td>-0.638843</td>\n",
       "    </tr>\n",
       "  </tbody>\n",
       "</table>\n",
       "</div>"
      ],
      "text/plain": [
       "           A,B\n",
       "G1 1 -0.775317\n",
       "   2  0.550271\n",
       "   3 -0.399681\n",
       "G2 1 -0.592518\n",
       "   2 -0.547864\n",
       "   3 -0.638843"
      ]
     },
     "execution_count": 89,
     "metadata": {},
     "output_type": "execute_result"
    }
   ],
   "source": [
    "pd.DataFrame(np.random.randn(6,1),index=hier_index,columns=['A,''B'])"
   ]
  },
  {
   "cell_type": "code",
   "execution_count": null,
   "id": "c7a6e5fb-f160-4e13-a26a-a483acbf83f1",
   "metadata": {},
   "outputs": [],
   "source": []
  },
  {
   "cell_type": "markdown",
   "id": "02dc6466-65d8-4892-a8bc-b16f1bb66e62",
   "metadata": {},
   "source": [
    "# Missing Data\n",
    "let show a few convenient methods to deal with missing data in pandas"
   ]
  },
  {
   "cell_type": "code",
   "execution_count": 91,
   "id": "f9ee4f17-98a6-438c-b5a5-4c0e5b0c9eae",
   "metadata": {},
   "outputs": [],
   "source": [
    "import pandas as pd\n",
    "import numpy as np"
   ]
  },
  {
   "cell_type": "code",
   "execution_count": null,
   "id": "eef5c06e-f8c2-4cc5-b143-e4e47398d494",
   "metadata": {},
   "outputs": [],
   "source": []
  }
 ],
 "metadata": {
  "kernelspec": {
   "display_name": "Python 3 (ipykernel)",
   "language": "python",
   "name": "python3"
  },
  "language_info": {
   "codemirror_mode": {
    "name": "ipython",
    "version": 3
   },
   "file_extension": ".py",
   "mimetype": "text/x-python",
   "name": "python",
   "nbconvert_exporter": "python",
   "pygments_lexer": "ipython3",
   "version": "3.11.7"
  }
 },
 "nbformat": 4,
 "nbformat_minor": 5
}
