{
 "cells": [
  {
   "cell_type": "code",
   "execution_count": 3,
   "id": "9eb4e807-3291-448a-a942-08ae77198d9f",
   "metadata": {},
   "outputs": [
    {
     "ename": "SyntaxError",
     "evalue": "invalid syntax (1273995060.py, line 1)",
     "output_type": "error",
     "traceback": [
      "\u001b[1;36m  Cell \u001b[1;32mIn[3], line 1\u001b[1;36m\u001b[0m\n\u001b[1;33m    python __version\u001b[0m\n\u001b[1;37m           ^\u001b[0m\n\u001b[1;31mSyntaxError\u001b[0m\u001b[1;31m:\u001b[0m invalid syntax\n"
     ]
    }
   ],
   "source": [
    "python __version\n"
   ]
  },
  {
   "cell_type": "code",
   "execution_count": 4,
   "id": "aa9ea896-27df-4da9-a548-0b8e9de2fa1f",
   "metadata": {},
   "outputs": [
    {
     "data": {
      "text/plain": [
       "True"
      ]
     },
     "execution_count": 4,
     "metadata": {},
     "output_type": "execute_result"
    }
   ],
   "source": [
    "bool(-1)"
   ]
  },
  {
   "cell_type": "code",
   "execution_count": 5,
   "id": "5c7a69c9-7010-41e5-bb89-0897619cde55",
   "metadata": {},
   "outputs": [
    {
     "data": {
      "text/plain": [
       "True"
      ]
     },
     "execution_count": 5,
     "metadata": {},
     "output_type": "execute_result"
    }
   ],
   "source": [
    "bool(-5)"
   ]
  },
  {
   "cell_type": "markdown",
   "id": "dbe506a0-08da-4a7a-a77b-a9a9326c2a4c",
   "metadata": {},
   "source": [
    "### Datatypes\n",
    "#Integer\n",
    "#Boolean\n",
    "#String\n",
    "#Float\n"
   ]
  },
  {
   "cell_type": "code",
   "execution_count": 24,
   "id": "5ffb6ad3-f182-42ee-94b0-30802ff320ce",
   "metadata": {},
   "outputs": [],
   "source": [
    "#a b c d e f g h i j k \n",
    "#0 1 2 3 4 5 6 7 8 9 10 "
   ]
  },
  {
   "cell_type": "code",
   "execution_count": 28,
   "id": "95c36d61-13b3-4183-a3e4-0e14cb4f48c4",
   "metadata": {},
   "outputs": [
    {
     "data": {
      "text/plain": [
       "array(['a', 'b', 'c', 'd', 'e', 'f', 'g', 'h', 'i', 'j', 'k'], dtype='<U1')"
      ]
     },
     "execution_count": 28,
     "metadata": {},
     "output_type": "execute_result"
    }
   ],
   "source": [
    "import numpy as np\n",
    "s=np.array(['a','b','c','d','e','f','g','h','i','j','k'])\n",
    "s"
   ]
  },
  {
   "cell_type": "code",
   "execution_count": 29,
   "id": "a51fe2df-ef24-481a-9c09-38c8eddc7383",
   "metadata": {},
   "outputs": [
    {
     "data": {
      "text/plain": [
       "array(['a', 'b', 'c', 'd', 'e', 'f', 'g', 'h', 'i', 'j', 'k'], dtype='<U1')"
      ]
     },
     "execution_count": 29,
     "metadata": {},
     "output_type": "execute_result"
    }
   ],
   "source": [
    "s"
   ]
  },
  {
   "cell_type": "code",
   "execution_count": 30,
   "id": "23de56fe-395f-4f67-a88e-ecfa3614fd6d",
   "metadata": {},
   "outputs": [
    {
     "data": {
      "text/plain": [
       "array(['d', 'e', 'f'], dtype='<U1')"
      ]
     },
     "execution_count": 30,
     "metadata": {},
     "output_type": "execute_result"
    }
   ],
   "source": [
    "s[3:6]"
   ]
  },
  {
   "cell_type": "markdown",
   "id": "a04b846c-e1e1-4ed3-944f-646960f38ab2",
   "metadata": {},
   "source": [
    "## Write program to ask user to enter number and then take reverse that number.After that add number and its reverse then check whether addition is palindrome or not.\n",
    "# If it is then print the palindrome otherwise take the reverse of addition and add it.\n",
    "# do this till you get palindrome.\n"
   ]
  },
  {
   "cell_type": "markdown",
   "id": "701afcb8-b91f-46ff-a08f-6c8116381c58",
   "metadata": {},
   "source": [
    "n1=88\n",
    "n2=88\n",
    "add 176\n",
    "     671\n",
    "add 847\n",
    "    748\n",
    "add 1595\n",
    "    5951\n",
    "add 7546\n",
    "    6457\n",
    "add 14003\n",
    "    30041\n",
    "add 44044\n",
    "    44044\n"
   ]
  },
  {
   "cell_type": "code",
   "execution_count": 51,
   "id": "bb3986d6-c815-498a-9c31-91e3a6f7a1e0",
   "metadata": {},
   "outputs": [
    {
     "name": "stdin",
     "output_type": "stream",
     "text": [
      "Enter number 1st: 88\n"
     ]
    },
    {
     "name": "stdout",
     "output_type": "stream",
     "text": [
      "Number 88\n",
      "Reverse Number 88\n",
      "Palindrome is: 847\n",
      "Number 88\n",
      "Reverse Number 88\n",
      "Palindrome is: 1595\n",
      "Number 88\n",
      "Reverse Number 88\n",
      "Palindrome is: 7546\n",
      "Number 88\n",
      "Reverse Number 88\n",
      "Palindrome is: 14003\n",
      "Number 88\n",
      "Reverse Number 88\n",
      "Palindrome is: 44044\n"
     ]
    }
   ],
   "source": [
    "n1=input(\"Enter number 1st:\")\n",
    "n2=int(n1[::-1])\n",
    "n3=str(int(n1)+n2)\n",
    "while n3!=n3[::-1]:\n",
    "   n3=str(int(n3)+int(n3[::-1]))\n",
    "   print(\"Number\",n1)\n",
    "   print(\"Reverse Number\",n2)\n",
    "   print(\"Palindrome is:\",n3)\n",
    "  \n",
    "\n"
   ]
  },
  {
   "cell_type": "code",
   "execution_count": 43,
   "id": "5190d2dd-cddb-484f-abed-15e6e80ae101",
   "metadata": {},
   "outputs": [
    {
     "data": {
      "text/plain": [
       "176"
      ]
     },
     "execution_count": 43,
     "metadata": {},
     "output_type": "execute_result"
    }
   ],
   "source": [
    "n3"
   ]
  },
  {
   "cell_type": "code",
   "execution_count": 52,
   "id": "c80f3224-eb38-49d0-89a8-0da9d5d61faa",
   "metadata": {},
   "outputs": [
    {
     "name": "stdin",
     "output_type": "stream",
     "text": [
      "Enter the number: 88\n"
     ]
    },
    {
     "name": "stdout",
     "output_type": "stream",
     "text": [
      "Number is: 176\n",
      "reverse is: 671\n",
      "Number is: 847\n",
      "reverse is: 748\n",
      "Number is: 847\n",
      "reverse is: 748\n",
      "Number is: 1595\n",
      "reverse is: 5951\n",
      "Number is: 1595\n",
      "reverse is: 5951\n",
      "Number is: 7546\n",
      "reverse is: 6457\n",
      "Number is: 7546\n",
      "reverse is: 6457\n",
      "Number is: 14003\n",
      "reverse is: 30041\n",
      "Number is: 14003\n",
      "reverse is: 30041\n",
      "Number is: 44044\n",
      "reverse is: 44044\n",
      "Palindrome is: 44044\n"
     ]
    }
   ],
   "source": [
    "n1=input(\"Enter the number:\")\n",
    "n2=int(n1[::-1])\n",
    "n3=str(int(n1)+n2)\n",
    "while n3!=n3[::-1]:\n",
    "    print(\"Number is:\",n3)\n",
    "    print(\"reverse is:\",n3[::-1])\n",
    "    n3=str(int(n3)+int(n3[::-1]))\n",
    "    print(\"Number is:\",n3)\n",
    "    print(\"reverse is:\",n3[::-1])\n",
    "print(\"Palindrome is:\",n3)"
   ]
  },
  {
   "cell_type": "code",
   "execution_count": 53,
   "id": "173bd3a3-610a-4a97-a647-8e1e2ae77160",
   "metadata": {},
   "outputs": [],
   "source": [
    "data=[\"soup\",\"salad\",\"great\",\"bye\",\"sachin\",\"python\"]"
   ]
  },
  {
   "cell_type": "code",
   "execution_count": 54,
   "id": "b2261407-8ab4-4b60-bf33-61b3d9e62e00",
   "metadata": {},
   "outputs": [],
   "source": [
    "#Write lambda expression to fetch words which do not start with latter s"
   ]
  },
  {
   "cell_type": "code",
   "execution_count": 55,
   "id": "314f7fc7-f18d-43cf-b7fa-c29c6c92a15f",
   "metadata": {},
   "outputs": [
    {
     "data": {
      "text/plain": [
       "['great', 'bye', 'python']"
      ]
     },
     "execution_count": 55,
     "metadata": {},
     "output_type": "execute_result"
    }
   ],
   "source": [
    "list(filter(lambda x:x[0]!='s',data))"
   ]
  },
  {
   "cell_type": "code",
   "execution_count": null,
   "id": "9abd907f-8e3b-4f76-9eda-454e4ec4ee2d",
   "metadata": {},
   "outputs": [],
   "source": []
  }
 ],
 "metadata": {
  "kernelspec": {
   "display_name": "Python 3 (ipykernel)",
   "language": "python",
   "name": "python3"
  },
  "language_info": {
   "codemirror_mode": {
    "name": "ipython",
    "version": 3
   },
   "file_extension": ".py",
   "mimetype": "text/x-python",
   "name": "python",
   "nbconvert_exporter": "python",
   "pygments_lexer": "ipython3",
   "version": "3.11.7"
  }
 },
 "nbformat": 4,
 "nbformat_minor": 5
}
